{
  "cells":[
    {
      "cell_type":"markdown",
      "source":[
        "<center><h1>Step 0 - Preprocessing<\/h1><\/center> "
      ],
      "attachments":{
        
      },
      "metadata":{
        "datalore":{
          "sheet_delimiter":false
        }
      }
    },
    {
      "cell_type":"markdown",
      "source":[
        "In this section, we first read the data including the bug reports and source code files of all 12 projects and for ease of access, we save them as two pickle files in the .\/Data directory. Therefore, this set of code will populate the .\/Data directory with \"allBugReports.pickle\" which is a pandas dataframe that contains all the bug reports from all projects and \"allSourceCodes.pickle\" which is a pandas dataframe that contains all source files after preprocessing."
      ],
      "attachments":{
        
      },
      "metadata":{
        "datalore":{
          "sheet_delimiter":false
        }
      }
    },
    {
      "cell_type":"markdown",
      "source":[
        "### Required Libraries"
      ],
      "attachments":{
        
      },
      "metadata":{
        "datalore":{
          "sheet_delimiter":false
        }
      }
    },
    {
      "cell_type":"code",
      "source":[
        "!pip install javalang"
      ],
      "execution_count":2,
      "outputs":[
        {
          "name":"stdout",
          "text":[
            "Requirement already satisfied: javalang in \/opt\/python\/envs\/default\/lib\/python3.8\/site-packages (0.13.0)\r\n",
            "Requirement already satisfied: six in \/opt\/python\/envs\/default\/lib\/python3.8\/site-packages (from javalang) (1.15.0)\r\n"
          ],
          "output_type":"stream"
        }
      ],
      "metadata":{
        "datalore":{
          "sheet_delimiter":false
        }
      }
    },
    {
      "cell_type":"code",
      "source":[
        "from __future__ import division\n",
        "import pandas as pd\n",
        "import numpy as np\n",
        "import os\n",
        "from os import listdir\n",
        "from os.path import isfile, join\n",
        "import nltk\n",
        "from nltk.corpus import stopwords \n",
        "from nltk.tokenize import word_tokenize \n",
        "from nltk.stem import PorterStemmer\n",
        "from typing import Iterable, Union, Dict, Tuple\n",
        "from IPython.core.display import display\n",
        "from sklearn.metrics import label_ranking_average_precision_score\n",
        "from sklearn.metrics.pairwise import cosine_similarity\n",
        "from sklearn.feature_extraction.text import TfidfVectorizer\n",
        "from sklearn.model_selection import cross_val_predict\n",
        "from sklearn.preprocessing import minmax_scale\n",
        "import warnings\n",
        "import javalang\n",
        "import re\n",
        "import glob\n",
        "import math\n",
        "import time\n",
        "from scipy import spatial\n",
        "import scipy.spatial.distance\n",
        "import xml.etree.ElementTree as ET\n",
        "import requests\n",
        "import multiprocessing\n",
        "from tqdm.notebook import tqdm as tq\n",
        "from time import gmtime, strftime\n",
        "from random import randint\n",
        "warnings.simplefilter(action='ignore', category=FutureWarning)"
      ],
      "execution_count":3,
      "outputs":[
        
      ],
      "metadata":{
        "datalore":{
          "sheet_delimiter":false
        }
      }
    },
    {
      "cell_type":"markdown",
      "source":[
        "<center><h1>Splitting code and natural language<\/h1><\/center> "
      ],
      "attachments":{
        
      },
      "metadata":{
        "datalore":{
          "sheet_delimiter":false
        }
      }
    },
    {
      "cell_type":"markdown",
      "source":[
        "<center><h1>Loading source codes into pandas Dataframe<\/h1><\/center> "
      ],
      "attachments":{
        
      },
      "metadata":{
        "datalore":{
          "sheet_delimiter":false
        }
      }
    },
    {
      "cell_type":"code",
      "source":[
        "def classNames_methodNames(node):\n",
        "    result=''\n",
        "    if isinstance(node,javalang.tree.MethodDeclaration) or isinstance(node,javalang.tree.ClassDeclaration):\n",
        "        return node.name.lower()+' '\n",
        "    if not (isinstance(node,javalang.tree.PackageDeclaration) or\n",
        "        isinstance(node,javalang.tree.FormalParameter) or\n",
        "       isinstance(node,javalang.tree.Import)):\n",
        "        if node:\n",
        "            if isinstance(node, javalang.ast.Node):\n",
        "                for childNode in node.children:\n",
        "                    result+=classNames_methodNames(childNode)\n",
        "    return result\n",
        "    \n",
        "def traverse_node(node,i=0):\n",
        "    i+=1\n",
        "    result=''\n",
        "    if not(isinstance(node,javalang.tree.PackageDeclaration)\n",
        "            or isinstance(node,javalang.tree.FormalParameter)            \n",
        "            or isinstance(node,javalang.tree.Import)\n",
        "            or isinstance(node,javalang.tree.CompilationUnit)):\n",
        "        if node:\n",
        "            if (isinstance(node,int) or isinstance(node,str) or isinstance(node,float)) and i==2:\n",
        "                result+=node+' '\n",
        "            if isinstance(node, javalang.ast.Node):\n",
        "                for childNode in node.children:\n",
        "                    result+=traverse_node(childNode,i)\n",
        "    return result\n",
        "\n",
        "def code_parser(code):\n",
        "    try:\n",
        "        tree = javalang.parse.parse(code)\n",
        "        return ''.join([traverse_node(node) for path, node in tree]) + ' ' + ''.join([classNames_methodNames(node)\n",
        "                                                                                      for path, node in tree])\n",
        "    except Exception as e: \n",
        "        print(e)\n",
        "        return ''\n",
        "\n",
        "\n",
        "def loadSourceFiles2df(PATH,project):\n",
        "    \"\"\"\n",
        "    Receives: group name and project name \n",
        "    Process: open the source file directory and finds all the java files,\n",
        "             and after preprocessing(using code_preprocessor) load them into a pandas dataframe \n",
        "    Returns: dataframe >> \"filename\",\"code\",\"size\"\n",
        "    \"\"\"\n",
        "    print('Loading source files of {}  ...'.format(project))\n",
        "    PATH=os.path.join(\"data\",project,\"gitrepo\")\n",
        "    all_source_files=glob.glob(PATH+'\/**\/*.java', recursive=True)\n",
        "    source_codes_df=pd.DataFrame([])\n",
        "    sourceCodesList=[]\n",
        "\n",
        "    for filename in tq(all_source_files):\n",
        "        code=open(filename,encoding='ISO-8859-1').read()\n",
        "        if 'src\/' in filename:\n",
        "            sourceCodesList.append(dict({\"filename\":filename.split('src\/')[1].replace('\/','.').lower(),\n",
        "                                         \"unprocessed_code\":code,\n",
        "                                         'project':project}))\n",
        "        else:\n",
        "            sourceCodesList.append(dict({\"filename\":filename.split(project)[1].replace('\/','.').lower(),\n",
        "                                         \"unprocessed_code\":code,\n",
        "                                         'project':project}))\n",
        "    source_codes_df=source_codes_df.append(pd.DataFrame(sourceCodesList))\n",
        "    return source_codes_df\n",
        "\n",
        "def load_all_SCs(dataPath):\n",
        "    print('\\tLoading all source codes ... ')\n",
        "    source_codes_df=pd.DataFrame([])\n",
        "    all_projects= [folder for folder in listdir(dataPath)]\n",
        "    for project in all_projects:\n",
        "        source_path=os.path.join(dataPath,project,\"gitrepo\")\n",
        "        source_codes_df=source_codes_df.append(loadSourceFiles2df(source_path,project))\n",
        "    return source_codes_df"
      ],
      "execution_count":4,
      "outputs":[
        
      ],
      "metadata":{
        "datalore":{
          "sheet_delimiter":false
        }
      }
    },
    {
      "cell_type":"markdown",
      "source":[
        "<center><h1>Loading bug reports pandas Dataframe<\/h1><\/center> "
      ],
      "attachments":{
        
      },
      "metadata":{
        "datalore":{
          "sheet_delimiter":false
        }
      }
    },
    {
      "cell_type":"code",
      "source":[
        "def loadBugs2df(PATH,project):\n",
        "    \"\"\"\n",
        "    @Receives: the path to bug repository (the xml file)\n",
        "    @Process: Parses the xml file and reads the fix files per bug id. \n",
        "    @Returns: Returns the dataframe\n",
        "    \"\"\"\n",
        "    print(\"Loading Bug reports ... \")\n",
        "    all_bugs_df=pd.DataFrame([],columns=[\"id\",\"fix\",\"text\",\"fixdate\"])\n",
        "    bugRepo = ET.parse(PATH).getroot()\n",
        "    buglist=[]                   \n",
        "    for bug in tq(bugRepo.findall('bug')):\n",
        "        bugDict=dict({\"id\":bug.attrib['id'],\"fix\":[],\"fixdate\":bug.attrib['fixdate']\n",
        "                      ,\"summary\":None,\"description\":None,\"project\":project,\"average_precision\":0.0})\n",
        "        for bugDetail in bug.find('buginformation'):\n",
        "            if bugDetail.tag=='summary':\n",
        "                bugDict[\"summary\"]=bugDetail.text\n",
        "            elif bugDetail.tag=='description':\n",
        "                bugDict[\"description\"]=bugDetail.text\n",
        "        bugDict[\"fix\"]=np.array([fixFile.text.replace('\/','.').lower() for fixFile in bug.find('fixedFiles')])\n",
        "        summary=str(bugDict['summary']) if str(bugDict['summary']) !=np.nan else \"\"\n",
        "        description=str(bugDict['description']) if str(bugDict['description']) !=np.nan else \"\"\n",
        "        buglist.append(bugDict)\n",
        "    all_bugs_df=all_bugs_df.append(pd.DataFrame(buglist))\n",
        "    return all_bugs_df.set_index('id')\n",
        "\n",
        "def load_all_BRs(dataPath):\n",
        "    print('\\tLoading all bug reports ... ')\n",
        "    all_bugs_df=pd.DataFrame([])\n",
        "    all_projects= [folder for folder in listdir(dataPath)]\n",
        "    for project in all_projects:\n",
        "        data_path=os.path.join(dataPath,project,\"bugrepo\",\"repository.xml\")\n",
        "        all_bugs_df=all_bugs_df.append(loadBugs2df(data_path,project))\n",
        "        print(len(all_bugs_df))\n",
        "    return all_bugs_df\n"
      ],
      "execution_count":5,
      "outputs":[
        
      ],
      "metadata":{
        "datalore":{
          "sheet_delimiter":false
        }
      }
    },
    {
      "cell_type":"markdown",
      "source":[
        "\n",
        "<center><h1>Main Preprocessing class<\/h1><\/center> "
      ],
      "attachments":{
        
      },
      "metadata":{
        "datalore":{
          "sheet_delimiter":false
        }
      }
    },
    {
      "cell_type":"code",
      "source":[
        "class PreprocessingUnit:\n",
        "\n",
        "    all_projects_source_codes=pd.DataFrame([])\n",
        "    all_projects_bugreports=pd.DataFrame([])\n",
        "    \n",
        "    def __init__(self,dataPath):\n",
        "\n",
        "        self.dataPath=dataPath\n",
        "        self.dataFolder=os.path.join(os.getcwd(),'Output')\n",
        "        if not os.path.exists(self.dataFolder):\n",
        "            os.makedirs(self.dataFolder)\n",
        "            \n",
        "    def execute(self):\n",
        "\n",
        "        self.loadEverything()\n",
        "\n",
        "    def loadEverything(self):\n",
        "        vectorize=False\n",
        "        if PreprocessingUnit.all_projects_bugreports.empty:\n",
        "            bugReportFile=os.path.join(self.dataFolder,'allBugReports.pickle')\n",
        "            if not os.path.isfile(bugReportFile):\n",
        "                PreprocessingUnit.all_projects_bugreports=load_all_BRs(dataPath=self.dataPath)\n",
        "                vectorize=True\n",
        "                PreprocessingUnit.all_projects_bugreports.to_pickle(bugReportFile)\n",
        "            else: \n",
        "                PreprocessingUnit.all_projects_bugreports=pd.read_pickle(bugReportFile)\n",
        "        print(\"*** All bug reports are are preprocessed and stored as: {} ***\".format('\/'.join(bugReportFile.split('\/')[-2:])))\n",
        "\n",
        "        if PreprocessingUnit.all_projects_source_codes.empty:\n",
        "            sourceCodeFile=os.path.join(self.dataFolder,'allSourceCodes.pickle')\n",
        "            if not os.path.isfile(sourceCodeFile):\n",
        "                PreprocessingUnit.all_projects_source_codes=load_all_SCs(dataPath=self.dataPath)\n",
        "                vectorize=True\n",
        "                PreprocessingUnit.all_projects_source_codes.to_pickle(sourceCodeFile)\n",
        "            else:\n",
        "                PreprocessingUnit.all_projects_source_codes=pd.read_pickle(sourceCodeFile)\n",
        "        print(\"*** All source codes are preprocessed and stored as: {} ***\".format('\/'.join(sourceCodeFile.split('\/')[-2:])))\n",
        "        "
      ],
      "execution_count":6,
      "outputs":[
        
      ],
      "metadata":{
        "datalore":{
          "sheet_delimiter":false
        }
      }
    },
    {
      "cell_type":"markdown",
      "source":[
        "### MAIN"
      ],
      "attachments":{
        
      },
      "metadata":{
        "datalore":{
          "sheet_delimiter":false
        }
      }
    },
    {
      "cell_type":"code",
      "source":[
        "if __name__==\"__main__\":\n",
        "\n",
        "    config={'DATA_PATH':os.path.join('data')}\n",
        "    preprocessor=PreprocessingUnit(dataPath=config['DATA_PATH'])\n",
        "    preprocessor.execute()\n",
        "   "
      ],
      "execution_count":7,
      "outputs":[
        {
          "name":"stdout",
          "text":[
            "*** All bug reports are are preprocessed and stored as: Output\/allBugReports.pickle ***\n",
            "*** All source codes are preprocessed and stored as: Output\/allSourceCodes.pickle ***\n"
          ],
          "output_type":"stream"
        }
      ],
      "metadata":{
        "datalore":{
          "sheet_delimiter":false
        }
      }
    },
    {
      "cell_type":"code",
      "source":[
        "import pandas as pd\n",
        "def loadEverything():\n",
        "    all_projects_bugreports = pd.read_pickle('Output\/allBugReports.pickle')\n",
        "    all_projects_bugreports = all_projects_bugreports[all_projects_bugreports['description'].notna()].reset_index()\n",
        "    print(\"*** All Bug Reports are Loaded. ***\")\n",
        "    all_projects_source_codes = pd.read_pickle('Output\/allSourceCodes.pickle')\n",
        "    all_projects_source_codes = all_projects_source_codes[all_projects_source_codes['unprocessed_code'].notna()]\n",
        "    print(\"*** All Source Codes are Loaded. ***\")\n",
        "    return all_projects_bugreports, all_projects_source_codes\n",
        "\n",
        "all_projects_bugreports, all_projects_source_codes = loadEverything()\n",
        "display(all_projects_bugreports.iloc[10])\n",
        "display(all_projects_source_codes.iloc[10].unprocessed_code)"
      ],
      "execution_count":8,
      "outputs":[
        {
          "name":"stdout",
          "text":[
            "*** All Bug Reports are Loaded. ***\n",
            "*** All Source Codes are Loaded. ***\n"
          ],
          "output_type":"stream"
        },
        {
          "data":{
            "text\/plain":[
              "'\/*\\n * Copyright 2002-2012 the original author or authors.\\n *\\n * Licensed under the Apache License, Version 2.0 (the \"License\");\\n * you may not use this file except in compliance with the License.\\n * You may obtain a copy of the License at\\n *\\n *      http:\/\/www.apache.org\/licenses\/LICENSE-2.0\\n *\\n * Unless required by applicable law or agreed to in writing, software\\n * distributed under the License is distributed on an \"AS IS\" BASIS,\\n * WITHOUT WARRANTIES OR CONDITIONS OF ANY KIND, either express or implied.\\n * See the License for the specific language governing permissions and\\n * limitations under the License.\\n *\/\\npackage org.springframework.test.web.client;\\n\\nimport java.io.IOException;\\n\\nimport org.springframework.http.client.ClientHttpRequest;\\n\\n\/**\\n * A contract for matching requests to expectations.\\n *\\n * @author Craig Walls\\n * @since 3.2\\n *\/\\npublic interface RequestMatcher {\\n\\n\\t\/**\\n\\t * Match the given request against some expectations.\\n\\t *\\n\\t * @param request the request to make assertions on\\n\\t * @throws IOException in case of I\/O errors\\n\\t * @throws AssertionError if expectations are not met\\n\\t *\/\\n\\tvoid match(ClientHttpRequest request) throws IOException, AssertionError;\\n\\n}\\n'"
            ]
          },
          "metadata":{
            
          },
          "output_type":"display_data"
        }
      ],
      "metadata":{
        "datalore":{
          "sheet_delimiter":false
        }
      }
    },
    {
      "cell_type":"markdown",
      "source":[
        "<center><h1>Data Clean Up<\/h1><\/center> "
      ],
      "attachments":{
        
      },
      "metadata":{
        "datalore":{
          "sheet_delimiter":false
        }
      }
    },
    {
      "cell_type":"markdown",
      "source":[
        "Step 1: Removing all the missing bug reports from the source code files."
      ],
      "attachments":{
        
      },
      "metadata":{
        "datalore":{
          "sheet_delimiter":false
        }
      }
    },
    {
      "cell_type":"code",
      "source":[
        "def Remove_missing_bug_reports(all_projects_bugreports, all_projects_source_codes):\n",
        "    #print(all_projects_source_codes[\"filename\"])\n",
        "    source_file = set(all_projects_source_codes[\"filename\"].map(lambda fname:\"org\"+fname.partition(\"org\")[2].replace(\"\\\\\",\".\")).tolist())\n",
        "\n",
        "    # store all bugreports\n",
        "    no_missing_files = all_projects_bugreports.copy()\n",
        "\n",
        "    # files in source code dataframe\n",
        "    for index, row in no_missing_files.iterrows():\n",
        "        no_missing_files.at[index, \"fix\"] = list(set(row['fix']).intersection(source_file))\n",
        "\n",
        "    no_missing_files = no_missing_files[no_missing_files.fix.str.len()>0]\n",
        "    return no_missing_files"
      ],
      "execution_count":9,
      "outputs":[
        
      ],
      "metadata":{
        "datalore":{
          "sheet_delimiter":false
        }
      }
    },
    {
      "cell_type":"markdown",
      "source":[
        "Step 2: Cleaning Textual data. \n",
        "-    The stop words include all the ENGLISH_STOP_WORDS and the java_keywords in Bench4BL repository.\n",
        "-    All alphabets are converted to lowercase\n",
        "-    The camel case words are split into 2 separate words."
      ],
      "attachments":{
        
      },
      "metadata":{
        "datalore":{
          "sheet_delimiter":false
        }
      }
    },
    {
      "cell_type":"code",
      "source":[
        "import keyword\n",
        "from sklearn.feature_extraction.text import ENGLISH_STOP_WORDS\n",
        "from nltk.stem.snowball import SnowballStemmer\n",
        "import matplotlib.pyplot as plt \n",
        "\n",
        "%matplotlib inline\n",
        "\n",
        "stemmer = SnowballStemmer(\"english\")\n",
        "\n",
        "java_keywords = [\"abstract\", \"assert\", \"boolean\", \"break\", \"byte\", \"case\", \"catch\", \"char\",\n",
        "                 \"class\", \"const\", \"continue\", \"default\", \"do\", \"double\", \"else\", \"enum\",\n",
        "                 \"extends\", \"final\", \"finally\", \"float\", \"for\", \"goto\", \"if\", \"implements\",\n",
        "                 \"import\", \"instanceof\", \"int\", \"interface\", \"long\", \"native\", \"new\", \"package\",\n",
        "                 \"private\", \"protected\", \"public\", \"return\", \"short\", \"static\", \"strictfp\",\n",
        "                 \"super\", \"switch\", \"synchronized\", \"this\", \"throw\", \"throws\", \"transient\", \"try\",\n",
        "                 \"void\", \"volatile\", \"while\", \"false\", \"null\", \"true\"]\n",
        "\n",
        "stop_words = set(list(ENGLISH_STOP_WORDS) + java_keywords  + keyword.kwlist)\n",
        "\n",
        "def clean_text(text):\n",
        "\n",
        "    # split words and return them if it is not in the stop words list\n",
        "    def WordList(all_text:str) ->Iterable[str]:\n",
        "        for word in re.findall('[A-Z]*[a-z]+|[A-Z]{2,}', all_text):\n",
        "            word_lower=word.lower()\n",
        "            if word_lower not in stop_words:\n",
        "                yield stemmer.stem(word_lower)\n",
        "\n",
        "    text=' '.join(WordList(text))\n",
        "    return text"
      ],
      "execution_count":10,
      "outputs":[
        
      ],
      "metadata":{
        "datalore":{
          "sheet_delimiter":false
        }
      }
    },
    {
      "cell_type":"markdown",
      "source":[
        "Step 3: Processed Data\n",
        "In this step, the goal is to obtain a cleaned data with no missing files. The two tables show the proccessed data."
      ],
      "attachments":{
        
      },
      "metadata":{
        "datalore":{
          "sheet_delimiter":false
        }
      }
    },
    {
      "cell_type":"code",
      "source":[
        "def getProcessedData():\n",
        "#->Tuple[Dict[str,pd.DataFrame],Dict[str,pd.DataFrame]]:\n",
        "    \n",
        "    #Obtain projects with their bug_reports and source_codes\n",
        "    all_projects_bugreports,all_projects_source_codes=loadEverything()\n",
        "\n",
        "    # Cleaning the data to remove missing bug_reports\n",
        "    no_missing_files=Remove_missing_bug_reports(all_projects_bugreports,all_projects_source_codes)\n",
        "\n",
        "    #Storing cleaned value into processed_description, processed_summary\n",
        "    no_missing_files[\"processed_description\"]=no_missing_files[\"description\"].map(clean_text)\n",
        "    no_missing_files[\"processed_summary\"]=no_missing_files[\"summary\"].map(clean_text)\n",
        "    no_missing_files[\"processed_all\"]=no_missing_files[\"processed_description\"] + no_missing_files[\"processed_summary\"]\n",
        "    no_missing_files=no_missing_files[[\"fix\",\"processed_all\",\"project\"]]\n",
        "    display(no_missing_files)\n",
        "\n",
        "    all_projects_source_codes[\"processed_code\"]=all_projects_source_codes[\"unprocessed_code\"].map(clean_text)\n",
        "    all_projects_source_codes=all_projects_source_codes[[\"filename\",\"processed_code\",\"project\"]]\n",
        "    display(all_projects_source_codes)\n",
        "\n",
        "    #The dictionary which stores the key as \"project\" and the values as the processed data dataframes\n",
        "    valuesByName={}\n",
        "    grouped_code=all_projects_source_codes.groupby([\"project\"])\n",
        "    for project,files in no_missing_files.groupby([\"project\"]):\n",
        "        valuesByName[project]=files, grouped_code.get_group(project)\n",
        "    return valuesByName\n",
        "\n",
        "ProjectData = getProcessedData()"
      ],
      "execution_count":11,
      "outputs":[
        {
          "name":"stdout",
          "text":[
            "*** All Bug Reports are Loaded. ***\n",
            "*** All Source Codes are Loaded. ***\n"
          ],
          "output_type":"stream"
        },
        {
          "data":{
            "text\/html":[
              "<div>\n",
              "<style scoped>\n",
              "    .dataframe tbody tr th:only-of-type {\n",
              "        vertical-align: middle;\n",
              "    }\n",
              "\n",
              "    .dataframe tbody tr th {\n",
              "        vertical-align: top;\n",
              "    }\n",
              "\n",
              "    .dataframe thead th {\n",
              "        text-align: right;\n",
              "    }\n",
              "<\/style>\n",
              "<table border=\"1\" class=\"dataframe\">\n",
              "  <thead>\n",
              "    <tr style=\"text-align: right;\">\n",
              "      <th><\/th>\n",
              "      <th>filename<\/th>\n",
              "      <th>processed_code<\/th>\n",
              "      <th>project<\/th>\n",
              "    <\/tr>\n",
              "  <\/thead>\n",
              "  <tbody>\n",
              "    <tr>\n",
              "      <th>0<\/th>\n",
              "      <td>main.java.org.springframework.test.package-inf...<\/td>\n",
              "      <td>generic unit test support class org springfram...<\/td>\n",
              "      <td>SPR<\/td>\n",
              "    <\/tr>\n",
              "    <tr>\n",
              "      <th>1<\/th>\n",
              "      <td>main.java.org.springframework.test.assertthrow...<\/td>\n",
              "      <td>copyright origin author author licens apach li...<\/td>\n",
              "      <td>SPR<\/td>\n",
              "    <\/tr>\n",
              "    <tr>\n",
              "      <th>2<\/th>\n",
              "      <td>main.java.org.springframework.test.web.package...<\/td>\n",
              "      <td>helper class unit test base spring s web suppo...<\/td>\n",
              "      <td>SPR<\/td>\n",
              "    <\/tr>\n",
              "    <tr>\n",
              "      <th>3<\/th>\n",
              "      <td>main.java.org.springframework.test.web.modelan...<\/td>\n",
              "      <td>copyright origin author author licens apach li...<\/td>\n",
              "      <td>SPR<\/td>\n",
              "    <\/tr>\n",
              "    <tr>\n",
              "      <th>4<\/th>\n",
              "      <td>main.java.org.springframework.test.web.client....<\/td>\n",
              "      <td>copyright origin author author licens apach li...<\/td>\n",
              "      <td>SPR<\/td>\n",
              "    <\/tr>\n",
              "    <tr>\n",
              "      <th>...<\/th>\n",
              "      <td>...<\/td>\n",
              "      <td>...<\/td>\n",
              "      <td>...<\/td>\n",
              "    <\/tr>\n",
              "    <tr>\n",
              "      <th>471<\/th>\n",
              "      <td>test.org.apache.commons.collections.collection...<\/td>\n",
              "      <td>licens apach softwar foundat asf contributor l...<\/td>\n",
              "      <td>COLLECTIONS<\/td>\n",
              "    <\/tr>\n",
              "    <tr>\n",
              "      <th>472<\/th>\n",
              "      <td>test.org.apache.commons.collections.collection...<\/td>\n",
              "      <td>licens apach softwar foundat asf contributor l...<\/td>\n",
              "      <td>COLLECTIONS<\/td>\n",
              "    <\/tr>\n",
              "    <tr>\n",
              "      <th>473<\/th>\n",
              "      <td>test.org.apache.commons.collections.collection...<\/td>\n",
              "      <td>licens apach softwar foundat asf contributor l...<\/td>\n",
              "      <td>COLLECTIONS<\/td>\n",
              "    <\/tr>\n",
              "    <tr>\n",
              "      <th>474<\/th>\n",
              "      <td>test.org.apache.commons.collections.collection...<\/td>\n",
              "      <td>licens apach softwar foundat asf contributor l...<\/td>\n",
              "      <td>COLLECTIONS<\/td>\n",
              "    <\/tr>\n",
              "    <tr>\n",
              "      <th>475<\/th>\n",
              "      <td>test.org.apache.commons.collections.collection...<\/td>\n",
              "      <td>licens apach softwar foundat asf contributor l...<\/td>\n",
              "      <td>COLLECTIONS<\/td>\n",
              "    <\/tr>\n",
              "  <\/tbody>\n",
              "<\/table>\n",
              "<p>10461 rows × 3 columns<\/p>\n",
              "<\/div>"
            ]
          },
          "metadata":{
            
          },
          "output_type":"display_data"
        }
      ],
      "metadata":{
        "datalore":{
          "sheet_delimiter":false
        }
      }
    },
    {
      "cell_type":"markdown",
      "source":[
        "<center><h1>Data Analysis and Methods 1, 2<\/h1><\/center> "
      ],
      "attachments":{
        
      },
      "metadata":{
        "datalore":{
          "sheet_delimiter":false
        }
      }
    },
    {
      "cell_type":"markdown",
      "source":[
        "Step 1: Data Analysis\n",
        "- Create a label matrix\n",
        "- Row = bug report\n",
        "- Column = source code\n",
        "- Result: All the cells with 1 specifies a change in the file to fix a bug.\n",
        "        All the cells with 0 specifies a change was NOT implemented"
      ],
      "attachments":{
        
      },
      "metadata":{
        "datalore":{
          "sheet_delimiter":false
        }
      }
    },
    {
      "cell_type":"code",
      "source":[
        "from scipy.sparse import lil_matrix\n",
        "\n",
        "def getLabelsForBugReport()->Dict[str,np.ndarray]:\n",
        "    def getLabelsForProject(processed_bug_report, processed_source_code):\n",
        "    \n",
        "        source_file=processed_source_code[\"filename\"].map(lambda fname:\"org\"+fname.partition(\"org\")[2].replace(\"\\\\\",\".\"))\n",
        "\n",
        "        #Stores source file values according to an index (ID)\n",
        "        file_index={}\n",
        "        for index,value in enumerate(source_file.values):\n",
        "            file_index[value]=index\n",
        "        num_files=len(source_file)\n",
        "        num_bug_reports=len(processed_bug_report[\"fix\"])\n",
        "\n",
        "        #Creating a label matrix\n",
        "        matrix=lil_matrix((num_bug_reports,num_files))\n",
        "        for index,file_names in enumerate(processed_bug_report[\"fix\"]):\n",
        "            for file_name in list(file_names):\n",
        "                try:\n",
        "                    matrix[index,file_index[file_name]]=1\n",
        "                except KeyError:\n",
        "                    pass\n",
        "                    \n",
        "        return matrix.toarray().astype(dtype=np.byte)\n",
        "\n",
        "    return {project:(bugReport,sourceFile, getLabelsForProject(bugReport,sourceFile)) for project,(bugReport,sourceFile) in ProjectData.items()}\n",
        "\n",
        "\n",
        "bugReportsCodeAndLabelsByProject=getLabelsForBugReport()\n",
        "display(bugReportsCodeAndLabelsByProject[\"SPR\"][2])"
      ],
      "execution_count":17,
      "outputs":[
        {
          "data":{
            "text\/plain":[
              "array([[0, 0, 0, ..., 0, 0, 0],\n",
              "       [0, 0, 0, ..., 0, 0, 0],\n",
              "       [0, 0, 0, ..., 0, 0, 0],\n",
              "       ...,\n",
              "       [0, 0, 0, ..., 0, 0, 0],\n",
              "       [0, 0, 0, ..., 0, 0, 0],\n",
              "       [0, 0, 0, ..., 0, 0, 0]], dtype=int8)"
            ]
          },
          "metadata":{
            
          },
          "output_type":"display_data"
        }
      ],
      "metadata":{
        "datalore":{
          "sheet_delimiter":false
        }
      }
    },
    {
      "cell_type":"markdown",
      "source":[
        "<h2>Method 1<\/h2>\n",
        "<p> Applying simply IRFL approach on the Bench4ML dataset. Applying TF-IDF method to calculate the similarity between\n",
        "the new bug report and ther source files, directly.<\/br>\n",
        "<\/p>\n",
        "\n",
        "<h2>Method 2<\/h2>\n",
        "<p> Using the same preprocessing and TF-IDF from Method , we calcuate an indirect relevancy function"
      ],
      "attachments":{
        
      },
      "metadata":{
        "datalore":{
          "sheet_delimiter":false
        }
      }
    },
    {
      "cell_type":"code",
      "source":[
        "from gensim import similarities\n",
        "from gensim import corpora\n",
        "\n",
        "def method_calls(processed_bug_report, processed_source_code, labels):\n",
        "\n",
        "    # Create Tfidf vectorizer and fit using processed source code\n",
        "    method1_vectorizer=TfidfVectorizer()\n",
        "    method1_vector=method1_vectorizer.fit_transform(processed_source_code[\"processed_code\"].to_numpy())\n",
        "\n",
        "    # Transform bug reports using TF-IDF.\n",
        "    def method1(bug_report):\n",
        "        query=method1_vectorizer.transform(bug_report[\"processed_all\"].to_numpy())\n",
        "        result = cosine_similarity(query,method1_vector).astype(dtype=np.float32)\n",
        "        return result\n",
        "\n",
        "    # Probability is evaluted using the cosine similarity between source code and bug report outputs\n",
        "    similarities1=method1(processed_bug_report)\n",
        "\n",
        "    class Method2:\n",
        "        def __init__(self,alpha=0.5):\n",
        "            self.alpha=alpha\n",
        "            self.bug_report_labels:Union[np.ndarray,None]=None\n",
        "            self.tfidf:Union[TfidfVectorizer,None]=None\n",
        "            self.bug_report_vector:Union[np.ndarray,None]=None\n",
        "        \n",
        "        def set_params(self,alpha):\n",
        "            self.alpha=alpha\n",
        "\n",
        "        def get_params(self,**kwargs):\n",
        "            return {\"alpha\":self.alpha}\n",
        "\n",
        "        # Create tf-idf vectorizer from previous bug reports\n",
        "        def fit(self, X:pd.DataFrame, y:np.ndarray):\n",
        "            self.bug_report_labels=y\n",
        "            self.tfidf=TfidfVectorizer()\n",
        "            self.bug_report_vector=self.tfidf.fit_transform(X[\"processed_all\"].to_numpy())\n",
        "\n",
        "        def getIndirectRelevancy(self,X:pd.DataFrame):\n",
        "            query=self.tfidf.transform(X[\"processed_all\"].to_numpy())\n",
        "            similarity = cosine_similarity(query,self.bug_report_vector).astype(dtype=np.float32)\n",
        "            n_files=self.bug_report_labels.sum(1)\n",
        "            label_values_per_bug_report=similarity\/n_files\n",
        "            indirectRelevancy = label_values_per_bug_report.dot(self.bug_report_labels)\n",
        "            return indirectRelevancy\n",
        "\n",
        "        # Finds similarities between queries and previous bug reports\n",
        "        def predict(self,X:pd.DataFrame)->np.ndarray:\n",
        "            indirectRelevancy=minmax_scale(self.getIndirectRelevancy(X),axis=1)\n",
        "            directRelevancy=minmax_scale(method1(X),axis=1)\n",
        "            return (1-self.alpha)*directRelevancy+self.alpha*indirectRelevancy\n",
        "\n",
        "    # Cross validation for training and testing data sets. Splits into 2 groups\n",
        "    similarities2=cross_val_predict(Method2(alpha=0.25),processed_bug_report,labels,cv=2)\n",
        "\n",
        "    return processed_bug_report,processed_source_code, labels, similarities1, similarities2\n",
        "\n",
        "\n",
        "project_similarities={project: method_calls(bug_rep, src_code, lbls)\n",
        "                      for project, (bug_rep,src_code, lbls) in bugReportsCodeAndLabelsByProject.items()}"
      ],
      "execution_count":18,
      "outputs":[
        
      ],
      "metadata":{
        "datalore":{
          "sheet_delimiter":false
        }
      }
    },
    {
      "cell_type":"markdown",
      "source":[
        "Method 3: Using Latent Semantic Indexing (Described in Paper)"
      ],
      "attachments":{
        
      },
      "metadata":{
        "datalore":{
          "sheet_delimiter":false
        }
      }
    },
    {
      "cell_type":"code",
      "source":[
        "from gensim import similarities\n",
        "from gensim import corpora\n",
        "from gensim.models import LsiModel\n",
        "\n",
        "def method_3(processed_bug_report, processed_source_code, labels):\n",
        "    def method3():\n",
        "\n",
        "        bug = [row.split() for row in processed_bug_report[\"processed_all\"]]\n",
        "        src= [row.split() for row in processed_source_code[\"processed_code\"]]\n",
        "\n",
        "        source_code_corpus = corpora.Dictionary(src)\n",
        "\n",
        "        bug_bag = [source_code_corpus.doc2bow(line) for line in bug]\n",
        "        source_bag = [source_code_corpus.doc2bow(line) for line in src]\n",
        "        \n",
        "        lsi = LsiModel(source_bag, id2word = source_code_corpus)\n",
        "        similarity_matrix = similarities.MatrixSimilarity(lsi[source_bag])\n",
        "\n",
        "        return similarity_matrix[lsi[bug_bag]]\n",
        "\n",
        "    similarities3 = method3()\n",
        "    processed_bug_report,processed_source_code, labels, similarities1, similarities2 = method_calls(processed_bug_report, processed_source_code, labels)\n",
        "\n",
        "    return processed_bug_report,processed_source_code, labels, similarities1, similarities2, similarities3\n",
        "\n",
        "project_similarities2 = {project: method_3(bug_rep, src_code, lbls)\n",
        "                      for project, (bug_rep,src_code, lbls) in bugReportsCodeAndLabelsByProject.items()}"
      ],
      "execution_count":22,
      "outputs":[
        
      ],
      "metadata":{
        "datalore":{
          "sheet_delimiter":false
        }
      }
    },
    {
      "cell_type":"code",
      "source":[
        "def MMRscore(denseLabels:np.ndarray, similarities:np.ndarray):\n",
        "    # Filter the input labels to only include the label with the maximum similarity\n",
        "    similarities_with_labels=denseLabels*similarities\n",
        "    max_value_label_indexes=np.argmax(similarities_with_labels,axis=1)\n",
        "    max_similar_labels=np.zeros_like(similarities_with_labels,dtype=np.byte)\n",
        "    max_similar_labels[np.arange(len(similarities_with_labels)),max_value_label_indexes]=1\n",
        "\n",
        "    # Calling label_ranking_average_precision_score with filtered input labels\n",
        "    return label_ranking_average_precision_score(max_similar_labels,similarities)"
      ],
      "execution_count":23,
      "outputs":[
        
      ],
      "metadata":{
        "datalore":{
          "sheet_delimiter":false
        }
      }
    },
    {
      "cell_type":"code",
      "source":[
        "def MAPscore(denseLabels:np.ndarray,similarities:np.ndarray):\n",
        "    return label_ranking_average_precision_score(denseLabels,similarities)"
      ],
      "execution_count":26,
      "outputs":[
        
      ],
      "metadata":{
        "datalore":{
          "sheet_delimiter":false
        }
      }
    },
    {
      "cell_type":"code",
      "source":[
        "# Calculates the mean of the scores of MMR and MAP for both methods.\n",
        "#Conclusion: Method 2 has a higher MMR and MAP score than Method 1\n",
        "def scoreBasics(processed_bug_report,processed_source_code, labels, similarities1, similarities2, similarities3):\n",
        "    return {\n",
        "        \"mrr method1\":MMRscore(labels,similarities1),\n",
        "        \"mrr method2\":MMRscore(labels,similarities2),\n",
        "        \"mrr method3\":MMRscore(labels,similarities3),\n",
        "        \"map method1\":MAPscore(labels,similarities1),\n",
        "        \"map method2\":MAPscore(labels,similarities2),\n",
        "        \"map method3\":MAPscore(labels,similarities3)\n",
        "    }\n",
        "basicScores=pd.DataFrame((scoreBasics(*values) for values in project_similarities2.values()),index=project_similarities.keys())\n",
        "\n",
        "averageScores=basicScores.mean()\n",
        "display(averageScores)"
      ],
      "execution_count":27,
      "outputs":[
        {
          "data":{
            "text\/plain":[
              "mrr method1    0.483182\n",
              "mrr method2    0.544180\n",
              "mrr method3    0.466929\n",
              "map method1    0.398779\n",
              "map method2    0.453015\n",
              "map method3    0.371344\n",
              "dtype: float64"
            ]
          },
          "metadata":{
            
          },
          "output_type":"display_data"
        }
      ],
      "metadata":{
        "datalore":{
          "sheet_delimiter":false
        }
      }
    },
    {
      "cell_type":"code",
      "source":[
        "def get_top_k_indices(matrix, k):\n",
        "    return np.argsort(matrix)[:,-k:][:,::-1]\n",
        "\n",
        "# Calculates the MAP and MMR scores for the top 50 indices for both methods\n",
        "def scoreTop50Indices()->Iterable[Dict]:\n",
        "    top_indices_list = range(5,51,5)\n",
        "    for project,(processed_bug_report,processed_source_code, labels, similarities1, similarities2, similarities3) in project_similarities2.items():\n",
        "        for method_name,similarity in ((\"method1\",similarities1),(\"method2\",similarities2),(\"method3\", similarities3)):\n",
        "            indices = get_top_k_indices(similarity, 50)\n",
        "            top_values=np.take_along_axis(similarity, indices,axis=1)\n",
        "            top_labels=np.take_along_axis(labels, indices,axis=1)\n",
        "\n",
        "            mrr={index:MMRscore(top_labels[:, :index], top_values[:,:index]) for index in top_indices_list}\n",
        "            yield {\"project\":project, \"method\":method_name, \"metric\":\"mrr\", **mrr}\n",
        "\n",
        "            map={index:MAPscore(top_labels[:, :index], top_values[:,:index]) for index in top_indices_list}\n",
        "            yield {\"project\":project,\"method\":method_name, \"metric\":\"map\", **map}\n",
        "\n",
        "top50Indices=pd.DataFrame(scoreTop50Indices())\n",
        "\n",
        "Top50Indices=top50Indices.groupby([\"metric\",\"method\"]).mean()\n",
        "display(Top50Indices)"
      ],
      "execution_count":28,
      "outputs":[
        {
          "data":{
            "text\/html":[
              "<div>\n",
              "<style scoped>\n",
              "    .dataframe tbody tr th:only-of-type {\n",
              "        vertical-align: middle;\n",
              "    }\n",
              "\n",
              "    .dataframe tbody tr th {\n",
              "        vertical-align: top;\n",
              "    }\n",
              "\n",
              "    .dataframe thead th {\n",
              "        text-align: right;\n",
              "    }\n",
              "<\/style>\n",
              "<table border=\"1\" class=\"dataframe\">\n",
              "  <thead>\n",
              "    <tr style=\"text-align: right;\">\n",
              "      <th><\/th>\n",
              "      <th><\/th>\n",
              "      <th>5<\/th>\n",
              "      <th>10<\/th>\n",
              "      <th>15<\/th>\n",
              "      <th>20<\/th>\n",
              "      <th>25<\/th>\n",
              "      <th>30<\/th>\n",
              "      <th>35<\/th>\n",
              "      <th>40<\/th>\n",
              "      <th>45<\/th>\n",
              "      <th>50<\/th>\n",
              "    <\/tr>\n",
              "    <tr>\n",
              "      <th>metric<\/th>\n",
              "      <th>method<\/th>\n",
              "      <th><\/th>\n",
              "      <th><\/th>\n",
              "      <th><\/th>\n",
              "      <th><\/th>\n",
              "      <th><\/th>\n",
              "      <th><\/th>\n",
              "      <th><\/th>\n",
              "      <th><\/th>\n",
              "      <th><\/th>\n",
              "      <th><\/th>\n",
              "    <\/tr>\n",
              "  <\/thead>\n",
              "  <tbody>\n",
              "    <tr>\n",
              "      <th rowspan=\"3\" valign=\"top\">map<\/th>\n",
              "      <th>method1<\/th>\n",
              "      <td>0.778460<\/td>\n",
              "      <td>0.677135<\/td>\n",
              "      <td>0.627799<\/td>\n",
              "      <td>0.587783<\/td>\n",
              "      <td>0.564172<\/td>\n",
              "      <td>0.548917<\/td>\n",
              "      <td>0.522832<\/td>\n",
              "      <td>0.515912<\/td>\n",
              "      <td>0.505537<\/td>\n",
              "      <td>0.498050<\/td>\n",
              "    <\/tr>\n",
              "    <tr>\n",
              "      <th>method2<\/th>\n",
              "      <td>0.797976<\/td>\n",
              "      <td>0.684271<\/td>\n",
              "      <td>0.642062<\/td>\n",
              "      <td>0.603700<\/td>\n",
              "      <td>0.589764<\/td>\n",
              "      <td>0.570764<\/td>\n",
              "      <td>0.557452<\/td>\n",
              "      <td>0.549605<\/td>\n",
              "      <td>0.539900<\/td>\n",
              "      <td>0.535425<\/td>\n",
              "    <\/tr>\n",
              "    <tr>\n",
              "      <th>method3<\/th>\n",
              "      <td>0.803709<\/td>\n",
              "      <td>0.693048<\/td>\n",
              "      <td>0.640815<\/td>\n",
              "      <td>0.597955<\/td>\n",
              "      <td>0.569629<\/td>\n",
              "      <td>0.555239<\/td>\n",
              "      <td>0.535465<\/td>\n",
              "      <td>0.521049<\/td>\n",
              "      <td>0.507317<\/td>\n",
              "      <td>0.498586<\/td>\n",
              "    <\/tr>\n",
              "    <tr>\n",
              "      <th rowspan=\"3\" valign=\"top\">mrr<\/th>\n",
              "      <th>method1<\/th>\n",
              "      <td>0.789852<\/td>\n",
              "      <td>0.704989<\/td>\n",
              "      <td>0.667949<\/td>\n",
              "      <td>0.633626<\/td>\n",
              "      <td>0.615502<\/td>\n",
              "      <td>0.603180<\/td>\n",
              "      <td>0.580769<\/td>\n",
              "      <td>0.575715<\/td>\n",
              "      <td>0.566927<\/td>\n",
              "      <td>0.561498<\/td>\n",
              "    <\/tr>\n",
              "    <tr>\n",
              "      <th>method2<\/th>\n",
              "      <td>0.815659<\/td>\n",
              "      <td>0.718919<\/td>\n",
              "      <td>0.686459<\/td>\n",
              "      <td>0.654142<\/td>\n",
              "      <td>0.645276<\/td>\n",
              "      <td>0.631098<\/td>\n",
              "      <td>0.619796<\/td>\n",
              "      <td>0.612798<\/td>\n",
              "      <td>0.605979<\/td>\n",
              "      <td>0.602480<\/td>\n",
              "    <\/tr>\n",
              "    <tr>\n",
              "      <th>method3<\/th>\n",
              "      <td>0.818262<\/td>\n",
              "      <td>0.724769<\/td>\n",
              "      <td>0.681798<\/td>\n",
              "      <td>0.649012<\/td>\n",
              "      <td>0.628710<\/td>\n",
              "      <td>0.617219<\/td>\n",
              "      <td>0.601270<\/td>\n",
              "      <td>0.591910<\/td>\n",
              "      <td>0.579646<\/td>\n",
              "      <td>0.572692<\/td>\n",
              "    <\/tr>\n",
              "  <\/tbody>\n",
              "<\/table>\n",
              "<\/div>"
            ]
          },
          "metadata":{
            
          },
          "output_type":"display_data"
        }
      ],
      "metadata":{
        "datalore":{
          "sheet_delimiter":false
        }
      }
    },
    {
      "cell_type":"markdown",
      "source":[
        "Plotting top K indices with respect to the MAP scores for both methods."
      ],
      "attachments":{
        
      },
      "metadata":{
        "datalore":{
          "sheet_delimiter":false
        }
      }
    },
    {
      "cell_type":"code",
      "source":[
        "mapMethod1 = Top50Indices.iloc[0]\n",
        "mapMethod2 = Top50Indices.iloc[1]\n",
        "mapMethod3 = Top50Indices.iloc[2]\n",
        "xLabels = [5,10,15,20,25,30,35,40,45,50]\n",
        "\n",
        "fig, ax = plt.subplots()\n",
        "plt.plot(xLabels, mapMethod1, label = \"Method 1 Map Score\")\n",
        "plt.plot(xLabels, mapMethod2, label = \"Method 2 Map Score\")\n",
        "plt.plot(xLabels, mapMethod3, label = \"Method 3 Map Score\")\n",
        "plt.legend()\n",
        "plt.ylabel(\"MAP Score\")\n",
        "plt.xlabel(\"Top k Indices\")\n",
        "plt.show()"
      ],
      "execution_count":29,
      "outputs":[
        {
          "data":{
            "image\/png":"[encoded data removed]"
          },
          "metadata":{
            "image\/png":{
              
            }
          },
          "output_type":"display_data"
        }
      ],
      "metadata":{
        "datalore":{
          "sheet_delimiter":false
        }
      }
    },
    {
      "cell_type":"markdown",
      "source":[
        "Plotting top K indices with respect to the MMR scores for both methods."
      ],
      "attachments":{
        
      },
      "metadata":{
        "datalore":{
          "sheet_delimiter":false
        }
      }
    },
    {
      "cell_type":"code",
      "source":[
        "mrrMethod1 = Top50Indices.iloc[3]\n",
        "mrrMethod2 = Top50Indices.iloc[4]\n",
        "mmrMethod3 = Top50Indices.iloc[5]\n",
        "xLabels = [5,10,15,20,25,30,35,40,45,50]\n",
        "\n",
        "fig, ax = plt.subplots()\n",
        "plt.plot(xLabels, mrrMethod1, label = \"Method 1 MRR Score\")\n",
        "plt.plot(xLabels, mrrMethod2, label = \"Method 2 MRR Score\")\n",
        "plt.plot(xLabels, mmrMethod3, label = \"Method 3 MMR Score\")\n",
        "plt.legend()\n",
        "plt.ylabel(\"MRR Score\")\n",
        "plt.xlabel(\"Top k Indices\")\n",
        "plt.show()"
      ],
      "execution_count":30,
      "outputs":[
        {
          "data":{
            "image\/png":"[encoded data removed]"
          },
          "metadata":{
            "image\/png":{
              
            }
          },
          "output_type":"display_data"
        }
      ],
      "metadata":{
        "datalore":{
          "sheet_delimiter":false
        }
      }
    }
  ],
  "metadata":{
    
  },
  "nbformat":4,
  "nbformat_minor":0
}